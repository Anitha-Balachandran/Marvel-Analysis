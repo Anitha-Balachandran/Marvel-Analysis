{
 "cells": [
  {
   "cell_type": "code",
   "execution_count": 2,
   "id": "4721e4cb",
   "metadata": {},
   "outputs": [
    {
     "data": {
      "text/plain": [
       "(86, 11)"
      ]
     },
     "execution_count": 2,
     "metadata": {},
     "output_type": "execute_result"
    }
   ],
   "source": [
    "import pandas as pd\n",
    "\n",
    "df_survey_writers = pd.read_excel(\"Survey 1 Writers.xlsx\")\n",
    "df_survey_writers.shape\n"
   ]
  },
  {
   "cell_type": "code",
   "execution_count": 3,
   "id": "c19578ff",
   "metadata": {},
   "outputs": [
    {
     "data": {
      "text/plain": [
       "Index(['Timestamp', 'From which part of the world are you from?',\n",
       "       'What is your age group?', 'Who is your favorite Marvel superhero?',\n",
       "       'Which Marvel villain do you find the most interesting?',\n",
       "       'What type of relationships or dynamics do you enjoy seeing between Marvel characters in stories?',\n",
       "       'How important is diversity and representation in Marvel productions to you?',\n",
       "       'How important is it for Marvel stories to tackle relevant current social and cultural issues?',\n",
       "       'How often do you read Marvel comics?',\n",
       "       'Which Marvel movie has the best visual effects?',\n",
       "       'How satisfied are you with the current state of the Marvel Cinematic Universe content?'],\n",
       "      dtype='object')"
      ]
     },
     "execution_count": 3,
     "metadata": {},
     "output_type": "execute_result"
    }
   ],
   "source": [
    "df_survey_writers.columns"
   ]
  },
  {
   "cell_type": "code",
   "execution_count": 4,
   "id": "a8572617",
   "metadata": {},
   "outputs": [
    {
     "data": {
      "text/html": [
       "<div>\n",
       "<style scoped>\n",
       "    .dataframe tbody tr th:only-of-type {\n",
       "        vertical-align: middle;\n",
       "    }\n",
       "\n",
       "    .dataframe tbody tr th {\n",
       "        vertical-align: top;\n",
       "    }\n",
       "\n",
       "    .dataframe thead th {\n",
       "        text-align: right;\n",
       "    }\n",
       "</style>\n",
       "<table border=\"1\" class=\"dataframe\">\n",
       "  <thead>\n",
       "    <tr style=\"text-align: right;\">\n",
       "      <th></th>\n",
       "      <th>Timestamp</th>\n",
       "      <th>From which part of the world are you from?</th>\n",
       "      <th>What is your age group?</th>\n",
       "      <th>Who is your favorite Marvel superhero?</th>\n",
       "      <th>Which Marvel villain do you find the most interesting?</th>\n",
       "      <th>What type of relationships or dynamics do you enjoy seeing between Marvel characters in stories?</th>\n",
       "      <th>How important is diversity and representation in Marvel productions to you?</th>\n",
       "      <th>How important is it for Marvel stories to tackle relevant current social and cultural issues?</th>\n",
       "      <th>How often do you read Marvel comics?</th>\n",
       "      <th>Which Marvel movie has the best visual effects?</th>\n",
       "      <th>How satisfied are you with the current state of the Marvel Cinematic Universe content?</th>\n",
       "    </tr>\n",
       "  </thead>\n",
       "  <tbody>\n",
       "    <tr>\n",
       "      <th>0</th>\n",
       "      <td>2023-04-23 21:20:54.396</td>\n",
       "      <td>Asia</td>\n",
       "      <td>25 to 34 Years</td>\n",
       "      <td>Iron Man</td>\n",
       "      <td>Loki</td>\n",
       "      <td>Rivalries and conflicts</td>\n",
       "      <td>Somewhat important</td>\n",
       "      <td>Somewhat important, but not a priority for me</td>\n",
       "      <td>Never</td>\n",
       "      <td>Doctor Strange</td>\n",
       "      <td>5</td>\n",
       "    </tr>\n",
       "    <tr>\n",
       "      <th>1</th>\n",
       "      <td>2023-04-23 21:22:17.993</td>\n",
       "      <td>North America</td>\n",
       "      <td>25 to 34 Years</td>\n",
       "      <td>Spider-Man</td>\n",
       "      <td>Thanos</td>\n",
       "      <td>Rivalries and conflicts</td>\n",
       "      <td>Very important</td>\n",
       "      <td>Very important, it adds depth and relevance to...</td>\n",
       "      <td>Rarely</td>\n",
       "      <td>Avengers: Infinity War</td>\n",
       "      <td>4</td>\n",
       "    </tr>\n",
       "    <tr>\n",
       "      <th>2</th>\n",
       "      <td>2023-04-23 21:31:24.061</td>\n",
       "      <td>North America</td>\n",
       "      <td>25 to 34 Years</td>\n",
       "      <td>Spider-Man</td>\n",
       "      <td>Thanos</td>\n",
       "      <td>Rivalries and conflicts</td>\n",
       "      <td>Very important</td>\n",
       "      <td>Very important, it adds depth and relevance to...</td>\n",
       "      <td>Never</td>\n",
       "      <td>Avengers: Infinity War</td>\n",
       "      <td>4</td>\n",
       "    </tr>\n",
       "    <tr>\n",
       "      <th>3</th>\n",
       "      <td>2023-04-23 23:20:09.685</td>\n",
       "      <td>Asia</td>\n",
       "      <td>25 to 34 Years</td>\n",
       "      <td>Spider-Man</td>\n",
       "      <td>Thanos</td>\n",
       "      <td>Team dynamics and friendships</td>\n",
       "      <td>Very important</td>\n",
       "      <td>Very important, it adds depth and relevance to...</td>\n",
       "      <td>Monthly</td>\n",
       "      <td>Avengers: Infinity War</td>\n",
       "      <td>4</td>\n",
       "    </tr>\n",
       "    <tr>\n",
       "      <th>4</th>\n",
       "      <td>2023-04-23 23:24:06.811</td>\n",
       "      <td>Asia</td>\n",
       "      <td>25 to 34 Years</td>\n",
       "      <td>Iron Man</td>\n",
       "      <td>Thanos</td>\n",
       "      <td>Team dynamics and friendships</td>\n",
       "      <td>Very important</td>\n",
       "      <td>Very important, it adds depth and relevance to...</td>\n",
       "      <td>Never</td>\n",
       "      <td>Doctor Strange</td>\n",
       "      <td>4</td>\n",
       "    </tr>\n",
       "  </tbody>\n",
       "</table>\n",
       "</div>"
      ],
      "text/plain": [
       "                Timestamp From which part of the world are you from?  \\\n",
       "0 2023-04-23 21:20:54.396                                       Asia   \n",
       "1 2023-04-23 21:22:17.993                              North America   \n",
       "2 2023-04-23 21:31:24.061                              North America   \n",
       "3 2023-04-23 23:20:09.685                                       Asia   \n",
       "4 2023-04-23 23:24:06.811                                       Asia   \n",
       "\n",
       "  What is your age group? Who is your favorite Marvel superhero?  \\\n",
       "0          25 to 34 Years                               Iron Man   \n",
       "1          25 to 34 Years                             Spider-Man   \n",
       "2          25 to 34 Years                             Spider-Man   \n",
       "3          25 to 34 Years                             Spider-Man   \n",
       "4          25 to 34 Years                               Iron Man   \n",
       "\n",
       "  Which Marvel villain do you find the most interesting?  \\\n",
       "0                                               Loki       \n",
       "1                                             Thanos       \n",
       "2                                             Thanos       \n",
       "3                                             Thanos       \n",
       "4                                             Thanos       \n",
       "\n",
       "  What type of relationships or dynamics do you enjoy seeing between Marvel characters in stories?  \\\n",
       "0                            Rivalries and conflicts                                                 \n",
       "1                            Rivalries and conflicts                                                 \n",
       "2                            Rivalries and conflicts                                                 \n",
       "3                      Team dynamics and friendships                                                 \n",
       "4                      Team dynamics and friendships                                                 \n",
       "\n",
       "  How important is diversity and representation in Marvel productions to you?  \\\n",
       "0                                 Somewhat important                            \n",
       "1                                     Very important                            \n",
       "2                                     Very important                            \n",
       "3                                     Very important                            \n",
       "4                                     Very important                            \n",
       "\n",
       "  How important is it for Marvel stories to tackle relevant current social and cultural issues?  \\\n",
       "0      Somewhat important, but not a priority for me                                              \n",
       "1  Very important, it adds depth and relevance to...                                              \n",
       "2  Very important, it adds depth and relevance to...                                              \n",
       "3  Very important, it adds depth and relevance to...                                              \n",
       "4  Very important, it adds depth and relevance to...                                              \n",
       "\n",
       "  How often do you read Marvel comics?  \\\n",
       "0                                Never   \n",
       "1                               Rarely   \n",
       "2                                Never   \n",
       "3                              Monthly   \n",
       "4                                Never   \n",
       "\n",
       "  Which Marvel movie has the best visual effects?  \\\n",
       "0                                  Doctor Strange   \n",
       "1                          Avengers: Infinity War   \n",
       "2                          Avengers: Infinity War   \n",
       "3                          Avengers: Infinity War   \n",
       "4                                  Doctor Strange   \n",
       "\n",
       "   How satisfied are you with the current state of the Marvel Cinematic Universe content?  \n",
       "0                                                  5                                       \n",
       "1                                                  4                                       \n",
       "2                                                  4                                       \n",
       "3                                                  4                                       \n",
       "4                                                  4                                       "
      ]
     },
     "execution_count": 4,
     "metadata": {},
     "output_type": "execute_result"
    }
   ],
   "source": [
    "df_survey_writers.head()"
   ]
  },
  {
   "cell_type": "code",
   "execution_count": 5,
   "id": "aa8c4e56",
   "metadata": {},
   "outputs": [
    {
     "data": {
      "text/plain": [
       "Timestamp                                                                                           0\n",
       "From which part of the world are you from?                                                          0\n",
       "What is your age group?                                                                             0\n",
       "Who is your favorite Marvel superhero?                                                              0\n",
       "Which Marvel villain do you find the most interesting?                                              0\n",
       "What type of relationships or dynamics do you enjoy seeing between Marvel characters in stories?    0\n",
       "How important is diversity and representation in Marvel productions to you?                         0\n",
       "How important is it for Marvel stories to tackle relevant current social and cultural issues?       0\n",
       "How often do you read Marvel comics?                                                                0\n",
       "Which Marvel movie has the best visual effects?                                                     0\n",
       "How satisfied are you with the current state of the Marvel Cinematic Universe content?              0\n",
       "dtype: int64"
      ]
     },
     "execution_count": 5,
     "metadata": {},
     "output_type": "execute_result"
    }
   ],
   "source": [
    "df_survey_writers.isna().sum()"
   ]
  },
  {
   "cell_type": "code",
   "execution_count": 6,
   "id": "cb94491e",
   "metadata": {},
   "outputs": [
    {
     "name": "stdout",
     "output_type": "stream",
     "text": [
      "                                          Column Name  Missing Values Count\n",
      "0                                           Timestamp                     0\n",
      "1          From which part of the world are you from?                     0\n",
      "2                             What is your age group?                     0\n",
      "3              Who is your favorite Marvel superhero?                     0\n",
      "4   Which Marvel villain do you find the most inte...                     0\n",
      "5   What type of relationships or dynamics do you ...                     0\n",
      "6   How important is diversity and representation ...                     0\n",
      "7   How important is it for Marvel stories to tack...                     0\n",
      "8                How often do you read Marvel comics?                     0\n",
      "9     Which Marvel movie has the best visual effects?                     0\n",
      "10  How satisfied are you with the current state o...                     0\n"
     ]
    }
   ],
   "source": [
    "import pandas as pd\n",
    "\n",
    "\n",
    "missing_values_count = df_survey_writers.isna().sum()\n",
    "missing_values_table = pd.DataFrame({'Column Name': missing_values_count.index, 'Missing Values Count': missing_values_count.values})\n",
    "print(missing_values_table)"
   ]
  },
  {
   "cell_type": "code",
   "execution_count": 7,
   "id": "04860cce",
   "metadata": {},
   "outputs": [
    {
     "data": {
      "text/plain": [
       "Index(['From which part of the world are you from?', 'What is your age group?',\n",
       "       'Who is your favorite Marvel superhero?',\n",
       "       'Which Marvel villain do you find the most interesting?',\n",
       "       'What type of relationships or dynamics do you enjoy seeing between Marvel characters in stories?',\n",
       "       'How important is diversity and representation in Marvel productions to you?',\n",
       "       'How important is it for Marvel stories to tackle relevant current social and cultural issues?',\n",
       "       'How often do you read Marvel comics?',\n",
       "       'Which Marvel movie has the best visual effects?',\n",
       "       'How satisfied are you with the current state of the Marvel Cinematic Universe content?'],\n",
       "      dtype='object')"
      ]
     },
     "execution_count": 7,
     "metadata": {},
     "output_type": "execute_result"
    }
   ],
   "source": [
    "df_survey_writers.drop(columns = 'Timestamp', axis=1, inplace=True)\n",
    "df_survey_writers.columns"
   ]
  },
  {
   "cell_type": "code",
   "execution_count": 8,
   "id": "81365ccb",
   "metadata": {},
   "outputs": [
    {
     "data": {
      "text/plain": [
       "Index(['From which part of the world are you from?', 'What is your age group?',\n",
       "       'Favorite Marvel Superhero', 'Favorite Marvel Villain',\n",
       "       'Favorite Character Dynamics', 'Diversity Representation',\n",
       "       'Social and Cultural Issues', 'Marvel Comics Reading Frequency',\n",
       "       'Best Visual Effects', 'MCU Satisfaction Rate'],\n",
       "      dtype='object')"
      ]
     },
     "execution_count": 8,
     "metadata": {},
     "output_type": "execute_result"
    }
   ],
   "source": [
    "\n",
    "df_survey_writers.rename(columns={'Who is your favorite Marvel superhero?': 'Favorite Marvel Superhero'}, inplace=True)\n",
    "df_survey_writers.rename(columns={'Which Marvel villain do you find the most interesting?': 'Favorite Marvel Villain'}, inplace=True)\n",
    "df_survey_writers.rename(columns={'What type of relationships or dynamics do you enjoy seeing between Marvel characters in stories?': 'Favorite Character Dynamics'}, inplace=True)\n",
    "df_survey_writers.rename(columns={'How important is diversity and representation in Marvel productions to you?': 'Diversity Representation'}, inplace=True)\n",
    "df_survey_writers.rename(columns={'How important is it for Marvel stories to tackle relevant current social and cultural issues?': 'Social and Cultural Issues'}, inplace=True)\n",
    "df_survey_writers.rename(columns={'How often do you read Marvel comics?': 'Marvel Comics Reading Frequency'}, inplace=True)\n",
    "df_survey_writers.rename(columns={'Which Marvel movie has the best visual effects?': 'Best Visual Effects'}, inplace=True)\n",
    "df_survey_writers.rename(columns={'How satisfied are you with the current state of the Marvel Cinematic Universe content?': 'MCU Satisfaction Rate'}, inplace=True)\n",
    "df_survey_writers.columns\n"
   ]
  },
  {
   "cell_type": "code",
   "execution_count": 9,
   "id": "795bcc69",
   "metadata": {},
   "outputs": [],
   "source": [
    "\n",
    "df_survey_writers.to_csv('survey_writers_Cleaned.csv', index=False)\n"
   ]
  },
  {
   "cell_type": "code",
   "execution_count": null,
   "id": "36a41a75",
   "metadata": {},
   "outputs": [],
   "source": []
  }
 ],
 "metadata": {
  "kernelspec": {
   "display_name": "Python 3 (ipykernel)",
   "language": "python",
   "name": "python3"
  },
  "language_info": {
   "codemirror_mode": {
    "name": "ipython",
    "version": 3
   },
   "file_extension": ".py",
   "mimetype": "text/x-python",
   "name": "python",
   "nbconvert_exporter": "python",
   "pygments_lexer": "ipython3",
   "version": "3.9.13"
  }
 },
 "nbformat": 4,
 "nbformat_minor": 5
}
