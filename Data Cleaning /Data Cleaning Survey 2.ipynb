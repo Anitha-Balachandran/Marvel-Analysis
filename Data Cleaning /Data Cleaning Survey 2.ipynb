{
 "cells": [
  {
   "cell_type": "code",
   "execution_count": 19,
   "id": "745846ef",
   "metadata": {},
   "outputs": [
    {
     "data": {
      "text/plain": [
       "(66, 11)"
      ]
     },
     "execution_count": 19,
     "metadata": {},
     "output_type": "execute_result"
    }
   ],
   "source": [
    "import pandas as pd\n",
    "\n",
    "df_survey_production = pd.read_excel(\"Survey 2 Production.xlsx\")\n",
    "df_survey_production.shape"
   ]
  },
  {
   "cell_type": "code",
   "execution_count": 17,
   "id": "2023086a",
   "metadata": {},
   "outputs": [
    {
     "data": {
      "text/plain": [
       "Index(['Timestamp', 'From which part of the world are you from?',\n",
       "       'What is your age group?',\n",
       "       'How do you typically watch Marvel movies? (Check all that apply)',\n",
       "       'Which of the following Marvel merchandise have you purchased? (Check all that apply)',\n",
       "       ' What do you enjoy most about Marvel productions?',\n",
       "       'Would you be interested in attending Marvel-themed events (e.g. conventions, fan meetups) related to the Marvel productions you enjoy?',\n",
       "       'How interested are you in experiencing Marvel productions through other forms of media such as virtual reality experiences, augmented reality experiences, or interactive experiences ?',\n",
       "       'Have you visited any of the Marvel-themed attractions at Disney parks? If so, what was your experience like?',\n",
       "       'Which upcoming Marvel movie are you most excited to see?',\n",
       "       'On a scale of 1-5, how likely are you to recommend Marvel productions to a friend or family member?'],\n",
       "      dtype='object')"
      ]
     },
     "execution_count": 17,
     "metadata": {},
     "output_type": "execute_result"
    }
   ],
   "source": [
    "df_survey_production.columns"
   ]
  },
  {
   "cell_type": "code",
   "execution_count": 9,
   "id": "06754736",
   "metadata": {},
   "outputs": [
    {
     "data": {
      "text/html": [
       "<div>\n",
       "<style scoped>\n",
       "    .dataframe tbody tr th:only-of-type {\n",
       "        vertical-align: middle;\n",
       "    }\n",
       "\n",
       "    .dataframe tbody tr th {\n",
       "        vertical-align: top;\n",
       "    }\n",
       "\n",
       "    .dataframe thead th {\n",
       "        text-align: right;\n",
       "    }\n",
       "</style>\n",
       "<table border=\"1\" class=\"dataframe\">\n",
       "  <thead>\n",
       "    <tr style=\"text-align: right;\">\n",
       "      <th></th>\n",
       "      <th>Timestamp</th>\n",
       "      <th>From which part of the world are you from?</th>\n",
       "      <th>What is your age group?</th>\n",
       "      <th>How do you typically watch Marvel movies? (Check all that apply)</th>\n",
       "      <th>Which of the following Marvel merchandise have you purchased? (Check all that apply)</th>\n",
       "      <th>What do you enjoy most about Marvel productions?</th>\n",
       "      <th>Would you be interested in attending Marvel-themed events (e.g. conventions, fan meetups) related to the Marvel productions you enjoy?</th>\n",
       "      <th>How interested are you in experiencing Marvel productions through other forms of media such as virtual reality experiences, augmented reality experiences, or interactive experiences ?</th>\n",
       "      <th>Have you visited any of the Marvel-themed attractions at Disney parks? If so, what was your experience like?</th>\n",
       "      <th>Which upcoming Marvel movie are you most excited to see?</th>\n",
       "      <th>On a scale of 1-5, how likely are you to recommend Marvel productions to a friend or family member?</th>\n",
       "    </tr>\n",
       "  </thead>\n",
       "  <tbody>\n",
       "    <tr>\n",
       "      <th>0</th>\n",
       "      <td>2023-04-23 21:21:31.229</td>\n",
       "      <td>Asia</td>\n",
       "      <td>25 to 34 Years</td>\n",
       "      <td>In theaters, On a streaming service (e.g. Disn...</td>\n",
       "      <td>T-shirts, Fridge magnets</td>\n",
       "      <td>The action and special effects, The humor and ...</td>\n",
       "      <td>Interested, I might consider attending Marvel-...</td>\n",
       "      <td>Interested</td>\n",
       "      <td>Yes, and it was an amazing experience.</td>\n",
       "      <td>The Marvels - November 10, 2023</td>\n",
       "      <td>5</td>\n",
       "    </tr>\n",
       "    <tr>\n",
       "      <th>1</th>\n",
       "      <td>2023-04-23 21:26:51.424</td>\n",
       "      <td>North America</td>\n",
       "      <td>25 to 34 Years</td>\n",
       "      <td>In theaters, On a streaming service (e.g. Disn...</td>\n",
       "      <td>T-shirts, Fridge magnets</td>\n",
       "      <td>The action and special effects, The humor and ...</td>\n",
       "      <td>Very interested, I would love to attend Marvel...</td>\n",
       "      <td>Very interested</td>\n",
       "      <td>No, but I would like to visit in the future.</td>\n",
       "      <td>Guardians of the Galaxy Vol. 3 - May 5, 2023</td>\n",
       "      <td>5</td>\n",
       "    </tr>\n",
       "    <tr>\n",
       "      <th>2</th>\n",
       "      <td>2023-04-23 21:33:10.993</td>\n",
       "      <td>North America</td>\n",
       "      <td>25 to 34 Years</td>\n",
       "      <td>In theaters</td>\n",
       "      <td>T-shirts</td>\n",
       "      <td>The action and special effects, The humor and ...</td>\n",
       "      <td>Very interested, I would love to attend Marvel...</td>\n",
       "      <td>Very interested</td>\n",
       "      <td>No, but I would like to visit in the future.</td>\n",
       "      <td>The Marvels - November 10, 2023</td>\n",
       "      <td>5</td>\n",
       "    </tr>\n",
       "    <tr>\n",
       "      <th>3</th>\n",
       "      <td>2023-04-23 23:22:17.273</td>\n",
       "      <td>Asia</td>\n",
       "      <td>25 to 34 Years</td>\n",
       "      <td>In theaters, On a streaming service (e.g. Disn...</td>\n",
       "      <td>T-shirts, Action figures, Posters, Fridge magnets</td>\n",
       "      <td>The characters and their stories, The connecti...</td>\n",
       "      <td>Very interested, I would love to attend Marvel...</td>\n",
       "      <td>Very interested</td>\n",
       "      <td>Yes, and it was an amazing experience.</td>\n",
       "      <td>Spider-Man: Across the Spider-Verse - June 2, ...</td>\n",
       "      <td>5</td>\n",
       "    </tr>\n",
       "    <tr>\n",
       "      <th>4</th>\n",
       "      <td>2023-04-23 23:25:37.412</td>\n",
       "      <td>Asia</td>\n",
       "      <td>25 to 34 Years</td>\n",
       "      <td>In theaters</td>\n",
       "      <td>None</td>\n",
       "      <td>The connections between movies, The humor and ...</td>\n",
       "      <td>Interested, I might consider attending Marvel-...</td>\n",
       "      <td>Interested</td>\n",
       "      <td>No, but I would like to visit in the future.</td>\n",
       "      <td>Guardians of the Galaxy Vol. 3 - May 5, 2023</td>\n",
       "      <td>5</td>\n",
       "    </tr>\n",
       "  </tbody>\n",
       "</table>\n",
       "</div>"
      ],
      "text/plain": [
       "                Timestamp From which part of the world are you from?  \\\n",
       "0 2023-04-23 21:21:31.229                                       Asia   \n",
       "1 2023-04-23 21:26:51.424                              North America   \n",
       "2 2023-04-23 21:33:10.993                              North America   \n",
       "3 2023-04-23 23:22:17.273                                       Asia   \n",
       "4 2023-04-23 23:25:37.412                                       Asia   \n",
       "\n",
       "  What is your age group?  \\\n",
       "0          25 to 34 Years   \n",
       "1          25 to 34 Years   \n",
       "2          25 to 34 Years   \n",
       "3          25 to 34 Years   \n",
       "4          25 to 34 Years   \n",
       "\n",
       "  How do you typically watch Marvel movies? (Check all that apply)  \\\n",
       "0  In theaters, On a streaming service (e.g. Disn...                 \n",
       "1  In theaters, On a streaming service (e.g. Disn...                 \n",
       "2                                        In theaters                 \n",
       "3  In theaters, On a streaming service (e.g. Disn...                 \n",
       "4                                        In theaters                 \n",
       "\n",
       "  Which of the following Marvel merchandise have you purchased? (Check all that apply)  \\\n",
       "0                           T-shirts, Fridge magnets                                     \n",
       "1                           T-shirts, Fridge magnets                                     \n",
       "2                                           T-shirts                                     \n",
       "3  T-shirts, Action figures, Posters, Fridge magnets                                     \n",
       "4                                               None                                     \n",
       "\n",
       "    What do you enjoy most about Marvel productions?  \\\n",
       "0  The action and special effects, The humor and ...   \n",
       "1  The action and special effects, The humor and ...   \n",
       "2  The action and special effects, The humor and ...   \n",
       "3  The characters and their stories, The connecti...   \n",
       "4  The connections between movies, The humor and ...   \n",
       "\n",
       "  Would you be interested in attending Marvel-themed events (e.g. conventions, fan meetups) related to the Marvel productions you enjoy?  \\\n",
       "0  Interested, I might consider attending Marvel-...                                                                                       \n",
       "1  Very interested, I would love to attend Marvel...                                                                                       \n",
       "2  Very interested, I would love to attend Marvel...                                                                                       \n",
       "3  Very interested, I would love to attend Marvel...                                                                                       \n",
       "4  Interested, I might consider attending Marvel-...                                                                                       \n",
       "\n",
       "  How interested are you in experiencing Marvel productions through other forms of media such as virtual reality experiences, augmented reality experiences, or interactive experiences ?  \\\n",
       "0                                         Interested                                                                                                                                        \n",
       "1                                    Very interested                                                                                                                                        \n",
       "2                                    Very interested                                                                                                                                        \n",
       "3                                    Very interested                                                                                                                                        \n",
       "4                                         Interested                                                                                                                                        \n",
       "\n",
       "  Have you visited any of the Marvel-themed attractions at Disney parks? If so, what was your experience like?  \\\n",
       "0             Yes, and it was an amazing experience.                                                             \n",
       "1       No, but I would like to visit in the future.                                                             \n",
       "2       No, but I would like to visit in the future.                                                             \n",
       "3             Yes, and it was an amazing experience.                                                             \n",
       "4       No, but I would like to visit in the future.                                                             \n",
       "\n",
       "  Which upcoming Marvel movie are you most excited to see?  \\\n",
       "0                    The Marvels - November 10, 2023         \n",
       "1       Guardians of the Galaxy Vol. 3 - May 5, 2023         \n",
       "2                    The Marvels - November 10, 2023         \n",
       "3  Spider-Man: Across the Spider-Verse - June 2, ...         \n",
       "4       Guardians of the Galaxy Vol. 3 - May 5, 2023         \n",
       "\n",
       "   On a scale of 1-5, how likely are you to recommend Marvel productions to a friend or family member?  \n",
       "0                                                  5                                                    \n",
       "1                                                  5                                                    \n",
       "2                                                  5                                                    \n",
       "3                                                  5                                                    \n",
       "4                                                  5                                                    "
      ]
     },
     "execution_count": 9,
     "metadata": {},
     "output_type": "execute_result"
    }
   ],
   "source": [
    "df_survey_production.head()"
   ]
  },
  {
   "cell_type": "code",
   "execution_count": 7,
   "id": "0698cfcc",
   "metadata": {},
   "outputs": [
    {
     "data": {
      "text/plain": [
       "Timestamp                                                                                                                                                                                  0\n",
       "From which part of the world are you from?                                                                                                                                                 0\n",
       "What is your age group?                                                                                                                                                                    0\n",
       "How do you typically watch Marvel movies? (Check all that apply)                                                                                                                           0\n",
       "Which of the following Marvel merchandise have you purchased? (Check all that apply)                                                                                                       0\n",
       " What do you enjoy most about Marvel productions?                                                                                                                                          0\n",
       "Would you be interested in attending Marvel-themed events (e.g. conventions, fan meetups) related to the Marvel productions you enjoy?                                                     0\n",
       "How interested are you in experiencing Marvel productions through other forms of media such as virtual reality experiences, augmented reality experiences, or interactive experiences ?    0\n",
       "Have you visited any of the Marvel-themed attractions at Disney parks? If so, what was your experience like?                                                                               0\n",
       "Which upcoming Marvel movie are you most excited to see?                                                                                                                                   0\n",
       "On a scale of 1-5, how likely are you to recommend Marvel productions to a friend or family member?                                                                                        0\n",
       "dtype: int64"
      ]
     },
     "execution_count": 7,
     "metadata": {},
     "output_type": "execute_result"
    }
   ],
   "source": [
    "df_survey_production.isna().sum()"
   ]
  },
  {
   "cell_type": "code",
   "execution_count": 8,
   "id": "249f1793",
   "metadata": {},
   "outputs": [
    {
     "name": "stdout",
     "output_type": "stream",
     "text": [
      "                                          Column Name  Missing Values Count\n",
      "0                                           Timestamp                     0\n",
      "1          From which part of the world are you from?                     0\n",
      "2                             What is your age group?                     0\n",
      "3   How do you typically watch Marvel movies? (Che...                     0\n",
      "4   Which of the following Marvel merchandise have...                     0\n",
      "5    What do you enjoy most about Marvel productions?                     0\n",
      "6   Would you be interested in attending Marvel-th...                     0\n",
      "7   How interested are you in experiencing Marvel ...                     0\n",
      "8   Have you visited any of the Marvel-themed attr...                     0\n",
      "9   Which upcoming Marvel movie are you most excit...                     0\n",
      "10  On a scale of 1-5, how likely are you to recom...                     0\n"
     ]
    }
   ],
   "source": [
    "import pandas as pd\n",
    "\n",
    "\n",
    "\n",
    "\n",
    "missing_values_count = df_survey_production.isna().sum()\n",
    "missing_values_table = pd.DataFrame({'Column Name': missing_values_count.index, 'Missing Values Count': missing_values_count.values})\n",
    "print(missing_values_table)\n"
   ]
  },
  {
   "cell_type": "code",
   "execution_count": 20,
   "id": "5ddf68e7",
   "metadata": {},
   "outputs": [
    {
     "data": {
      "text/plain": [
       "Index(['From which part of the world are you from?', 'What is your age group?',\n",
       "       'How do you typically watch Marvel movies? (Check all that apply)',\n",
       "       'Which of the following Marvel merchandise have you purchased? (Check all that apply)',\n",
       "       ' What do you enjoy most about Marvel productions?',\n",
       "       'Would you be interested in attending Marvel-themed events (e.g. conventions, fan meetups) related to the Marvel productions you enjoy?',\n",
       "       'How interested are you in experiencing Marvel productions through other forms of media such as virtual reality experiences, augmented reality experiences, or interactive experiences ?',\n",
       "       'Have you visited any of the Marvel-themed attractions at Disney parks? If so, what was your experience like?',\n",
       "       'Which upcoming Marvel movie are you most excited to see?',\n",
       "       'On a scale of 1-5, how likely are you to recommend Marvel productions to a friend or family member?'],\n",
       "      dtype='object')"
      ]
     },
     "execution_count": 20,
     "metadata": {},
     "output_type": "execute_result"
    }
   ],
   "source": [
    "df_survey_production.drop(columns = 'Timestamp', axis=1, inplace=True)\n",
    "df_survey_production.columns"
   ]
  },
  {
   "cell_type": "code",
   "execution_count": 21,
   "id": "957d26c0",
   "metadata": {},
   "outputs": [
    {
     "data": {
      "text/plain": [
       "Index(['From which part of the world are you from?', 'What is your age group?',\n",
       "       'Preferred Marvel Movie-Watching Platform',\n",
       "       'Marvel Merchandise Purchase History',\n",
       "       'Favorite Aspects of Marvel Productions',\n",
       "       'Interest in Marvel-Themed Events',\n",
       "       'Interest in Alternative Marvel Media Experiences',\n",
       "       'Experience with Marvel-Themed Attractions',\n",
       "       'Most Anticipated Upcoming Marvel Movie',\n",
       "       'Likelihood of Recommending Marvel Productions'],\n",
       "      dtype='object')"
      ]
     },
     "execution_count": 21,
     "metadata": {},
     "output_type": "execute_result"
    }
   ],
   "source": [
    "\n",
    "df_survey_production.rename(columns={'How do you typically watch Marvel movies? (Check all that apply)': 'Preferred Marvel Movie-Watching Platform'}, inplace=True)\n",
    "df_survey_production.rename(columns={'Which of the following Marvel merchandise have you purchased? (Check all that apply)': 'Marvel Merchandise Purchase History'}, inplace=True)\n",
    "df_survey_production.rename(columns={' What do you enjoy most about Marvel productions?': 'Favorite Aspects of Marvel Productions'}, inplace=True)\n",
    "df_survey_production.rename(columns={'Would you be interested in attending Marvel-themed events (e.g. conventions, fan meetups) related to the Marvel productions you enjoy?': 'Interest in Marvel-Themed Events'}, inplace=True)\n",
    "df_survey_production.rename(columns={'How interested are you in experiencing Marvel productions through other forms of media such as virtual reality experiences, augmented reality experiences, or interactive experiences ?': 'Interest in Alternative Marvel Media Experiences'}, inplace=True)\n",
    "df_survey_production.rename(columns={'Have you visited any of the Marvel-themed attractions at Disney parks? If so, what was your experience like?': 'Experience with Marvel-Themed Attractions'}, inplace=True)\n",
    "df_survey_production.rename(columns={'Which upcoming Marvel movie are you most excited to see?': 'Most Anticipated Upcoming Marvel Movie'}, inplace=True)\n",
    "df_survey_production.rename(columns={'On a scale of 1-5, how likely are you to recommend Marvel productions to a friend or family member?': 'Likelihood of Recommending Marvel Productions'}, inplace=True)\n",
    "df_survey_production.columns\n"
   ]
  },
  {
   "cell_type": "code",
   "execution_count": 14,
   "id": "6258d5a3",
   "metadata": {},
   "outputs": [
    {
     "data": {
      "text/plain": [
       "Index(['From which part of the world are you from?', 'What is your age group?',\n",
       "       'Favorite Aspects of Marvel Productions',\n",
       "       'Interest in Marvel-Themed Events',\n",
       "       'Interest in Alternative Marvel Media Experiences',\n",
       "       'Experience with Marvel-Themed Attractions',\n",
       "       'Most Anticipated Upcoming Marvel Movie',\n",
       "       'Likelihood of Recommending Marvel Productions'],\n",
       "      dtype='object')"
      ]
     },
     "execution_count": 14,
     "metadata": {},
     "output_type": "execute_result"
    }
   ],
   "source": [
    "df_survey_production.drop(columns = 'Preferred Marvel Movie-Watching Platform', axis=1, inplace=True)\n",
    "df_survey_production.columns"
   ]
  },
  {
   "cell_type": "code",
   "execution_count": null,
   "id": "fb8a9702",
   "metadata": {},
   "outputs": [],
   "source": []
  }
 ],
 "metadata": {
  "kernelspec": {
   "display_name": "Python 3 (ipykernel)",
   "language": "python",
   "name": "python3"
  },
  "language_info": {
   "codemirror_mode": {
    "name": "ipython",
    "version": 3
   },
   "file_extension": ".py",
   "mimetype": "text/x-python",
   "name": "python",
   "nbconvert_exporter": "python",
   "pygments_lexer": "ipython3",
   "version": "3.9.13"
  }
 },
 "nbformat": 4,
 "nbformat_minor": 5
}
